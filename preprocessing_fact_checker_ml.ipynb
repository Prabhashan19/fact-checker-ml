{
  "nbformat": 4,
  "nbformat_minor": 0,
  "metadata": {
    "colab": {
      "provenance": []
    },
    "kernelspec": {
      "name": "python3",
      "display_name": "Python 3"
    },
    "language_info": {
      "name": "python"
    }
  },
  "cells": [
    {
      "cell_type": "code",
      "execution_count": 37,
      "metadata": {
        "id": "5CnLNny5Oqo6"
      },
      "outputs": [],
      "source": [
        "# Installing required libraries: Hugging Face Transformers, Datasets, and Scikit-learn for model building, dataset handling, and evaluation\n",
        "!pip install transformers datasets scikit-learn --quiet"
      ]
    },
    {
      "cell_type": "code",
      "source": [
        "# Importing all the necessary libraries\n",
        "import pandas as pd\n",
        "import os\n",
        "from sklearn.model_selection import train_test_split\n",
        "from sklearn.utils import class_weight"
      ],
      "metadata": {
        "id": "f2ErYUT9P_tg"
      },
      "execution_count": 38,
      "outputs": []
    },
    {
      "cell_type": "code",
      "source": [
        "# Loading the dataset\n",
        "df = pd.read_csv(\"/content/drive/MyDrive/Fact-checker-ML-dataset/politifact_factcheck_data.csv\")\n",
        "\n",
        "# Displaying the first 5 rows\n",
        "df.head()"
      ],
      "metadata": {
        "colab": {
          "base_uri": "https://localhost:8080/",
          "height": 399
        },
        "id": "UKaALM_eRDs5",
        "outputId": "dc1da80c-7a03-4acb-f211-e03a81039b7c"
      },
      "execution_count": 39,
      "outputs": [
        {
          "output_type": "execute_result",
          "data": {
            "text/plain": [
              "       verdict statement_originator  \\\n",
              "0         true         Barack Obama   \n",
              "1        false           Matt Gaetz   \n",
              "2  mostly-true         Kelly Ayotte   \n",
              "3        false             Bloggers   \n",
              "4    half-true         Bobby Jindal   \n",
              "\n",
              "                                           statement statement_date  \\\n",
              "0  John McCain opposed bankruptcy protections for...      6/11/2008   \n",
              "1  \"Bennie Thompson actively cheer-led riots in t...       6/7/2022   \n",
              "2  Says Maggie Hassan was \"out of state on 30 day...      5/18/2016   \n",
              "3  \"BUSTED: CDC Inflated COVID Numbers, Accused o...       2/1/2021   \n",
              "4  \"I'm the only (Republican) candidate that has ...      8/30/2015   \n",
              "\n",
              "  statement_source        factchecker factcheck_date  \\\n",
              "0           speech  Adriel Bettelheim      6/16/2008   \n",
              "1       television        Yacob Reyes      6/13/2022   \n",
              "2             news     Clay Wirestone      5/27/2016   \n",
              "3             blog     Madison Czopek       2/5/2021   \n",
              "4       television          Linda Qiu      8/30/2015   \n",
              "\n",
              "                             factcheck_analysis_link  \n",
              "0  https://www.politifact.com/factchecks/2008/jun...  \n",
              "1  https://www.politifact.com/factchecks/2022/jun...  \n",
              "2  https://www.politifact.com/factchecks/2016/may...  \n",
              "3  https://www.politifact.com/factchecks/2021/feb...  \n",
              "4  https://www.politifact.com/factchecks/2015/aug...  "
            ],
            "text/html": [
              "\n",
              "  <div id=\"df-08945990-f9ac-48df-a4ea-1c33109a369f\" class=\"colab-df-container\">\n",
              "    <div>\n",
              "<style scoped>\n",
              "    .dataframe tbody tr th:only-of-type {\n",
              "        vertical-align: middle;\n",
              "    }\n",
              "\n",
              "    .dataframe tbody tr th {\n",
              "        vertical-align: top;\n",
              "    }\n",
              "\n",
              "    .dataframe thead th {\n",
              "        text-align: right;\n",
              "    }\n",
              "</style>\n",
              "<table border=\"1\" class=\"dataframe\">\n",
              "  <thead>\n",
              "    <tr style=\"text-align: right;\">\n",
              "      <th></th>\n",
              "      <th>verdict</th>\n",
              "      <th>statement_originator</th>\n",
              "      <th>statement</th>\n",
              "      <th>statement_date</th>\n",
              "      <th>statement_source</th>\n",
              "      <th>factchecker</th>\n",
              "      <th>factcheck_date</th>\n",
              "      <th>factcheck_analysis_link</th>\n",
              "    </tr>\n",
              "  </thead>\n",
              "  <tbody>\n",
              "    <tr>\n",
              "      <th>0</th>\n",
              "      <td>true</td>\n",
              "      <td>Barack Obama</td>\n",
              "      <td>John McCain opposed bankruptcy protections for...</td>\n",
              "      <td>6/11/2008</td>\n",
              "      <td>speech</td>\n",
              "      <td>Adriel Bettelheim</td>\n",
              "      <td>6/16/2008</td>\n",
              "      <td>https://www.politifact.com/factchecks/2008/jun...</td>\n",
              "    </tr>\n",
              "    <tr>\n",
              "      <th>1</th>\n",
              "      <td>false</td>\n",
              "      <td>Matt Gaetz</td>\n",
              "      <td>\"Bennie Thompson actively cheer-led riots in t...</td>\n",
              "      <td>6/7/2022</td>\n",
              "      <td>television</td>\n",
              "      <td>Yacob Reyes</td>\n",
              "      <td>6/13/2022</td>\n",
              "      <td>https://www.politifact.com/factchecks/2022/jun...</td>\n",
              "    </tr>\n",
              "    <tr>\n",
              "      <th>2</th>\n",
              "      <td>mostly-true</td>\n",
              "      <td>Kelly Ayotte</td>\n",
              "      <td>Says Maggie Hassan was \"out of state on 30 day...</td>\n",
              "      <td>5/18/2016</td>\n",
              "      <td>news</td>\n",
              "      <td>Clay Wirestone</td>\n",
              "      <td>5/27/2016</td>\n",
              "      <td>https://www.politifact.com/factchecks/2016/may...</td>\n",
              "    </tr>\n",
              "    <tr>\n",
              "      <th>3</th>\n",
              "      <td>false</td>\n",
              "      <td>Bloggers</td>\n",
              "      <td>\"BUSTED: CDC Inflated COVID Numbers, Accused o...</td>\n",
              "      <td>2/1/2021</td>\n",
              "      <td>blog</td>\n",
              "      <td>Madison Czopek</td>\n",
              "      <td>2/5/2021</td>\n",
              "      <td>https://www.politifact.com/factchecks/2021/feb...</td>\n",
              "    </tr>\n",
              "    <tr>\n",
              "      <th>4</th>\n",
              "      <td>half-true</td>\n",
              "      <td>Bobby Jindal</td>\n",
              "      <td>\"I'm the only (Republican) candidate that has ...</td>\n",
              "      <td>8/30/2015</td>\n",
              "      <td>television</td>\n",
              "      <td>Linda Qiu</td>\n",
              "      <td>8/30/2015</td>\n",
              "      <td>https://www.politifact.com/factchecks/2015/aug...</td>\n",
              "    </tr>\n",
              "  </tbody>\n",
              "</table>\n",
              "</div>\n",
              "    <div class=\"colab-df-buttons\">\n",
              "\n",
              "  <div class=\"colab-df-container\">\n",
              "    <button class=\"colab-df-convert\" onclick=\"convertToInteractive('df-08945990-f9ac-48df-a4ea-1c33109a369f')\"\n",
              "            title=\"Convert this dataframe to an interactive table.\"\n",
              "            style=\"display:none;\">\n",
              "\n",
              "  <svg xmlns=\"http://www.w3.org/2000/svg\" height=\"24px\" viewBox=\"0 -960 960 960\">\n",
              "    <path d=\"M120-120v-720h720v720H120Zm60-500h600v-160H180v160Zm220 220h160v-160H400v160Zm0 220h160v-160H400v160ZM180-400h160v-160H180v160Zm440 0h160v-160H620v160ZM180-180h160v-160H180v160Zm440 0h160v-160H620v160Z\"/>\n",
              "  </svg>\n",
              "    </button>\n",
              "\n",
              "  <style>\n",
              "    .colab-df-container {\n",
              "      display:flex;\n",
              "      gap: 12px;\n",
              "    }\n",
              "\n",
              "    .colab-df-convert {\n",
              "      background-color: #E8F0FE;\n",
              "      border: none;\n",
              "      border-radius: 50%;\n",
              "      cursor: pointer;\n",
              "      display: none;\n",
              "      fill: #1967D2;\n",
              "      height: 32px;\n",
              "      padding: 0 0 0 0;\n",
              "      width: 32px;\n",
              "    }\n",
              "\n",
              "    .colab-df-convert:hover {\n",
              "      background-color: #E2EBFA;\n",
              "      box-shadow: 0px 1px 2px rgba(60, 64, 67, 0.3), 0px 1px 3px 1px rgba(60, 64, 67, 0.15);\n",
              "      fill: #174EA6;\n",
              "    }\n",
              "\n",
              "    .colab-df-buttons div {\n",
              "      margin-bottom: 4px;\n",
              "    }\n",
              "\n",
              "    [theme=dark] .colab-df-convert {\n",
              "      background-color: #3B4455;\n",
              "      fill: #D2E3FC;\n",
              "    }\n",
              "\n",
              "    [theme=dark] .colab-df-convert:hover {\n",
              "      background-color: #434B5C;\n",
              "      box-shadow: 0px 1px 3px 1px rgba(0, 0, 0, 0.15);\n",
              "      filter: drop-shadow(0px 1px 2px rgba(0, 0, 0, 0.3));\n",
              "      fill: #FFFFFF;\n",
              "    }\n",
              "  </style>\n",
              "\n",
              "    <script>\n",
              "      const buttonEl =\n",
              "        document.querySelector('#df-08945990-f9ac-48df-a4ea-1c33109a369f button.colab-df-convert');\n",
              "      buttonEl.style.display =\n",
              "        google.colab.kernel.accessAllowed ? 'block' : 'none';\n",
              "\n",
              "      async function convertToInteractive(key) {\n",
              "        const element = document.querySelector('#df-08945990-f9ac-48df-a4ea-1c33109a369f');\n",
              "        const dataTable =\n",
              "          await google.colab.kernel.invokeFunction('convertToInteractive',\n",
              "                                                    [key], {});\n",
              "        if (!dataTable) return;\n",
              "\n",
              "        const docLinkHtml = 'Like what you see? Visit the ' +\n",
              "          '<a target=\"_blank\" href=https://colab.research.google.com/notebooks/data_table.ipynb>data table notebook</a>'\n",
              "          + ' to learn more about interactive tables.';\n",
              "        element.innerHTML = '';\n",
              "        dataTable['output_type'] = 'display_data';\n",
              "        await google.colab.output.renderOutput(dataTable, element);\n",
              "        const docLink = document.createElement('div');\n",
              "        docLink.innerHTML = docLinkHtml;\n",
              "        element.appendChild(docLink);\n",
              "      }\n",
              "    </script>\n",
              "  </div>\n",
              "\n",
              "\n",
              "    <div id=\"df-f777a429-5f7e-46f6-9acc-d06755d6652a\">\n",
              "      <button class=\"colab-df-quickchart\" onclick=\"quickchart('df-f777a429-5f7e-46f6-9acc-d06755d6652a')\"\n",
              "                title=\"Suggest charts\"\n",
              "                style=\"display:none;\">\n",
              "\n",
              "<svg xmlns=\"http://www.w3.org/2000/svg\" height=\"24px\"viewBox=\"0 0 24 24\"\n",
              "     width=\"24px\">\n",
              "    <g>\n",
              "        <path d=\"M19 3H5c-1.1 0-2 .9-2 2v14c0 1.1.9 2 2 2h14c1.1 0 2-.9 2-2V5c0-1.1-.9-2-2-2zM9 17H7v-7h2v7zm4 0h-2V7h2v10zm4 0h-2v-4h2v4z\"/>\n",
              "    </g>\n",
              "</svg>\n",
              "      </button>\n",
              "\n",
              "<style>\n",
              "  .colab-df-quickchart {\n",
              "      --bg-color: #E8F0FE;\n",
              "      --fill-color: #1967D2;\n",
              "      --hover-bg-color: #E2EBFA;\n",
              "      --hover-fill-color: #174EA6;\n",
              "      --disabled-fill-color: #AAA;\n",
              "      --disabled-bg-color: #DDD;\n",
              "  }\n",
              "\n",
              "  [theme=dark] .colab-df-quickchart {\n",
              "      --bg-color: #3B4455;\n",
              "      --fill-color: #D2E3FC;\n",
              "      --hover-bg-color: #434B5C;\n",
              "      --hover-fill-color: #FFFFFF;\n",
              "      --disabled-bg-color: #3B4455;\n",
              "      --disabled-fill-color: #666;\n",
              "  }\n",
              "\n",
              "  .colab-df-quickchart {\n",
              "    background-color: var(--bg-color);\n",
              "    border: none;\n",
              "    border-radius: 50%;\n",
              "    cursor: pointer;\n",
              "    display: none;\n",
              "    fill: var(--fill-color);\n",
              "    height: 32px;\n",
              "    padding: 0;\n",
              "    width: 32px;\n",
              "  }\n",
              "\n",
              "  .colab-df-quickchart:hover {\n",
              "    background-color: var(--hover-bg-color);\n",
              "    box-shadow: 0 1px 2px rgba(60, 64, 67, 0.3), 0 1px 3px 1px rgba(60, 64, 67, 0.15);\n",
              "    fill: var(--button-hover-fill-color);\n",
              "  }\n",
              "\n",
              "  .colab-df-quickchart-complete:disabled,\n",
              "  .colab-df-quickchart-complete:disabled:hover {\n",
              "    background-color: var(--disabled-bg-color);\n",
              "    fill: var(--disabled-fill-color);\n",
              "    box-shadow: none;\n",
              "  }\n",
              "\n",
              "  .colab-df-spinner {\n",
              "    border: 2px solid var(--fill-color);\n",
              "    border-color: transparent;\n",
              "    border-bottom-color: var(--fill-color);\n",
              "    animation:\n",
              "      spin 1s steps(1) infinite;\n",
              "  }\n",
              "\n",
              "  @keyframes spin {\n",
              "    0% {\n",
              "      border-color: transparent;\n",
              "      border-bottom-color: var(--fill-color);\n",
              "      border-left-color: var(--fill-color);\n",
              "    }\n",
              "    20% {\n",
              "      border-color: transparent;\n",
              "      border-left-color: var(--fill-color);\n",
              "      border-top-color: var(--fill-color);\n",
              "    }\n",
              "    30% {\n",
              "      border-color: transparent;\n",
              "      border-left-color: var(--fill-color);\n",
              "      border-top-color: var(--fill-color);\n",
              "      border-right-color: var(--fill-color);\n",
              "    }\n",
              "    40% {\n",
              "      border-color: transparent;\n",
              "      border-right-color: var(--fill-color);\n",
              "      border-top-color: var(--fill-color);\n",
              "    }\n",
              "    60% {\n",
              "      border-color: transparent;\n",
              "      border-right-color: var(--fill-color);\n",
              "    }\n",
              "    80% {\n",
              "      border-color: transparent;\n",
              "      border-right-color: var(--fill-color);\n",
              "      border-bottom-color: var(--fill-color);\n",
              "    }\n",
              "    90% {\n",
              "      border-color: transparent;\n",
              "      border-bottom-color: var(--fill-color);\n",
              "    }\n",
              "  }\n",
              "</style>\n",
              "\n",
              "      <script>\n",
              "        async function quickchart(key) {\n",
              "          const quickchartButtonEl =\n",
              "            document.querySelector('#' + key + ' button');\n",
              "          quickchartButtonEl.disabled = true;  // To prevent multiple clicks.\n",
              "          quickchartButtonEl.classList.add('colab-df-spinner');\n",
              "          try {\n",
              "            const charts = await google.colab.kernel.invokeFunction(\n",
              "                'suggestCharts', [key], {});\n",
              "          } catch (error) {\n",
              "            console.error('Error during call to suggestCharts:', error);\n",
              "          }\n",
              "          quickchartButtonEl.classList.remove('colab-df-spinner');\n",
              "          quickchartButtonEl.classList.add('colab-df-quickchart-complete');\n",
              "        }\n",
              "        (() => {\n",
              "          let quickchartButtonEl =\n",
              "            document.querySelector('#df-f777a429-5f7e-46f6-9acc-d06755d6652a button');\n",
              "          quickchartButtonEl.style.display =\n",
              "            google.colab.kernel.accessAllowed ? 'block' : 'none';\n",
              "        })();\n",
              "      </script>\n",
              "    </div>\n",
              "\n",
              "    </div>\n",
              "  </div>\n"
            ],
            "application/vnd.google.colaboratory.intrinsic+json": {
              "type": "dataframe",
              "variable_name": "df",
              "summary": "{\n  \"name\": \"df\",\n  \"rows\": 21152,\n  \"fields\": [\n    {\n      \"column\": \"verdict\",\n      \"properties\": {\n        \"dtype\": \"category\",\n        \"num_unique_values\": 6,\n        \"samples\": [\n          \"true\",\n          \"false\",\n          \"mostly-false\"\n        ],\n        \"semantic_type\": \"\",\n        \"description\": \"\"\n      }\n    },\n    {\n      \"column\": \"statement_originator\",\n      \"properties\": {\n        \"dtype\": \"category\",\n        \"num_unique_values\": 4565,\n        \"samples\": [\n          \"America First Political Committee\",\n          \"Marilinda Garcia\",\n          \"Kristi Noem\"\n        ],\n        \"semantic_type\": \"\",\n        \"description\": \"\"\n      }\n    },\n    {\n      \"column\": \"statement\",\n      \"properties\": {\n        \"dtype\": \"string\",\n        \"num_unique_values\": 21139,\n        \"samples\": [\n          \"\\\"Last week Joe Biden flashed the \\u2018white power\\u2019 sign. President Trump condemned white supremacists yesterday. Why hasn't Joe Biden?\\\"\",\n          \"\\\"The Coast Guard confiscated 200 tons of contraband, heroin, and so forth. At the border they collected 20 tons.\\\"\",\n          \"Judithanne McLauchlan \\\"was part of a group that supports imposing a state income tax on Floridians.\\\"\"\n        ],\n        \"semantic_type\": \"\",\n        \"description\": \"\"\n      }\n    },\n    {\n      \"column\": \"statement_date\",\n      \"properties\": {\n        \"dtype\": \"object\",\n        \"num_unique_values\": 4751,\n        \"samples\": [\n          \"3/10/2017\",\n          \"3/6/2016\",\n          \"6/20/2014\"\n        ],\n        \"semantic_type\": \"\",\n        \"description\": \"\"\n      }\n    },\n    {\n      \"column\": \"statement_source\",\n      \"properties\": {\n        \"dtype\": \"category\",\n        \"num_unique_values\": 13,\n        \"samples\": [\n          \"testimony\",\n          \"radio\",\n          \"speech\"\n        ],\n        \"semantic_type\": \"\",\n        \"description\": \"\"\n      }\n    },\n    {\n      \"column\": \"factchecker\",\n      \"properties\": {\n        \"dtype\": \"category\",\n        \"num_unique_values\": 562,\n        \"samples\": [\n          \"Minh Connors\",\n          \"Jeffrey Good\",\n          \"Lisa Greene\"\n        ],\n        \"semantic_type\": \"\",\n        \"description\": \"\"\n      }\n    },\n    {\n      \"column\": \"factcheck_date\",\n      \"properties\": {\n        \"dtype\": \"object\",\n        \"num_unique_values\": 4322,\n        \"samples\": [\n          \"1/27/2021\",\n          \"2/24/2011\",\n          \"9/23/2013\"\n        ],\n        \"semantic_type\": \"\",\n        \"description\": \"\"\n      }\n    },\n    {\n      \"column\": \"factcheck_analysis_link\",\n      \"properties\": {\n        \"dtype\": \"string\",\n        \"num_unique_values\": 21151,\n        \"samples\": [\n          \"https://www.politifact.com/factchecks/2016/feb/18/jeb-bush/jeb-bush-says-barack-obama-will-add-more-debt-all-/\",\n          \"https://www.politifact.com/factchecks/2013/apr/02/progressohio/progressohio-says-ohio-lacks-law-prohibiting-emplo/\",\n          \"https://www.politifact.com/factchecks/2015/feb/23/joseph-yost/yost-says-one-third-millennials-live-parents/\"\n        ],\n        \"semantic_type\": \"\",\n        \"description\": \"\"\n      }\n    }\n  ]\n}"
            }
          },
          "metadata": {},
          "execution_count": 39
        }
      ]
    },
    {
      "cell_type": "code",
      "source": [
        "# Displays all the column names and the data types of each column\n",
        "df.info()"
      ],
      "metadata": {
        "id": "j48z-mhFRQrC",
        "colab": {
          "base_uri": "https://localhost:8080/"
        },
        "outputId": "54924576-4e32-4926-a187-24641e92b9fe"
      },
      "execution_count": 40,
      "outputs": [
        {
          "output_type": "stream",
          "name": "stdout",
          "text": [
            "<class 'pandas.core.frame.DataFrame'>\n",
            "RangeIndex: 21152 entries, 0 to 21151\n",
            "Data columns (total 8 columns):\n",
            " #   Column                   Non-Null Count  Dtype \n",
            "---  ------                   --------------  ----- \n",
            " 0   verdict                  21152 non-null  object\n",
            " 1   statement_originator     21152 non-null  object\n",
            " 2   statement                21152 non-null  object\n",
            " 3   statement_date           21152 non-null  object\n",
            " 4   statement_source         21152 non-null  object\n",
            " 5   factchecker              21131 non-null  object\n",
            " 6   factcheck_date           21152 non-null  object\n",
            " 7   factcheck_analysis_link  21152 non-null  object\n",
            "dtypes: object(8)\n",
            "memory usage: 1.3+ MB\n"
          ]
        }
      ]
    },
    {
      "cell_type": "code",
      "source": [
        "# Normalizing the verdicts\n",
        "df[\"verdict\"] = df[\"verdict\"].str.strip().str.lower()"
      ],
      "metadata": {
        "id": "2Gexu7xMS9ek"
      },
      "execution_count": 41,
      "outputs": []
    },
    {
      "cell_type": "code",
      "source": [
        "# Finding the unique values of \"verdict\"\n",
        "print(df['verdict'].unique())"
      ],
      "metadata": {
        "id": "9mZyuR9VUS0c",
        "colab": {
          "base_uri": "https://localhost:8080/"
        },
        "outputId": "ea034dc9-a640-45d3-ab7d-ef1e5680e65a"
      },
      "execution_count": 42,
      "outputs": [
        {
          "output_type": "stream",
          "name": "stdout",
          "text": [
            "['true' 'false' 'mostly-true' 'half-true' 'pants-fire' 'mostly-false']\n"
          ]
        }
      ]
    },
    {
      "cell_type": "code",
      "source": [
        "# Drop missing values\n",
        "df = df.dropna(subset=[\"statement\", \"verdict\", \"factchecker\"])\n",
        "\n",
        "# Map verdicts to binary values\n",
        "binary_labels = {\n",
        "    \"true\": \"true\",\n",
        "    \"mostly-true\": \"true\",\n",
        "    \"half-true\": \"true\",\n",
        "    \"mostly-false\": \"false\",\n",
        "    \"false\": \"false\",\n",
        "    \"pants-fire\": \"false\"\n",
        "}\n",
        "\n",
        "# Filtering and Mapping\n",
        "df = df[df[\"verdict\"].isin(binary_labels.keys())].copy()\n",
        "df[\"label\"] = df[\"verdict\"].map(binary_labels)"
      ],
      "metadata": {
        "id": "iDNcsTCdPaSy"
      },
      "execution_count": 43,
      "outputs": []
    },
    {
      "cell_type": "code",
      "source": [
        "# Droping unused columns\n",
        "df_t5 = df[[\"statement\", \"label\"]].dropna()\n",
        "\n",
        "# Formating for T5 model\n",
        "df[\"input_text\"] = \"statement: \" + df[\"statement_originator\"].fillna(\"\") + \" says: \" + df[\"statement\"].str.strip()\n",
        "df[\"target_text\"] = df[\"label\"]"
      ],
      "metadata": {
        "id": "lpCQjXbIgOI8"
      },
      "execution_count": 44,
      "outputs": []
    },
    {
      "cell_type": "code",
      "source": [
        "# Displays all the column names and the data types of each column\n",
        "df.info()"
      ],
      "metadata": {
        "id": "GMQJcy4NSBRP",
        "colab": {
          "base_uri": "https://localhost:8080/"
        },
        "outputId": "49a7c67f-93e7-4765-b3fc-063fd5d5fdeb"
      },
      "execution_count": 45,
      "outputs": [
        {
          "output_type": "stream",
          "name": "stdout",
          "text": [
            "<class 'pandas.core.frame.DataFrame'>\n",
            "Index: 21131 entries, 0 to 21151\n",
            "Data columns (total 11 columns):\n",
            " #   Column                   Non-Null Count  Dtype \n",
            "---  ------                   --------------  ----- \n",
            " 0   verdict                  21131 non-null  object\n",
            " 1   statement_originator     21131 non-null  object\n",
            " 2   statement                21131 non-null  object\n",
            " 3   statement_date           21131 non-null  object\n",
            " 4   statement_source         21131 non-null  object\n",
            " 5   factchecker              21131 non-null  object\n",
            " 6   factcheck_date           21131 non-null  object\n",
            " 7   factcheck_analysis_link  21131 non-null  object\n",
            " 8   label                    21131 non-null  object\n",
            " 9   input_text               21131 non-null  object\n",
            " 10  target_text              21131 non-null  object\n",
            "dtypes: object(11)\n",
            "memory usage: 1.9+ MB\n"
          ]
        }
      ]
    },
    {
      "cell_type": "code",
      "source": [
        "# Optional: Balance classes if imbalanced #OPTIONAL\n",
        "from sklearn.utils import resample\n",
        "\n",
        "label_counts = df[\"label\"].value_counts()\n",
        "print(\"Label Distribution Before Balancing:\\n\", label_counts)\n",
        "\n",
        "min_class = label_counts.min()\n",
        "df_balanced = df.groupby(\"label\").sample(n=min_class, random_state=42).reset_index(drop=True)\n",
        "\n",
        "print(\"Label Distribution After Balancing:\\n\", df_balanced['label'].value_counts())"
      ],
      "metadata": {
        "colab": {
          "base_uri": "https://localhost:8080/"
        },
        "id": "5l96H_QojPhd",
        "outputId": "8129de6a-bfa6-4fae-f8ed-50b095e5db06"
      },
      "execution_count": 46,
      "outputs": [
        {
          "output_type": "stream",
          "name": "stdout",
          "text": [
            "Label Distribution Before Balancing:\n",
            " label\n",
            "false    11756\n",
            "true      9375\n",
            "Name: count, dtype: int64\n",
            "Label Distribution After Balancing:\n",
            " label\n",
            "false    9375\n",
            "true     9375\n",
            "Name: count, dtype: int64\n"
          ]
        }
      ]
    },
    {
      "cell_type": "code",
      "source": [
        "# Step 4: Stratified train-test split\n",
        "# from sklearn.model_selection import train_test_split\n",
        "\n",
        "# train_df, test_df = train_test_split(\n",
        "#     df_balanced,\n",
        "#     test_size=0.2,\n",
        "#     random_state=42,\n",
        "#     stratify=df_balanced[\"label\"]\n",
        "# )\n",
        "\n",
        "# # Reset index\n",
        "# train_df = train_df.reset_index(drop=True)\n",
        "# test_df = test_df.reset_index(drop=True)\n",
        "\n",
        "# print(\"Train size:\", len(train_df))\n",
        "# print(\"Test size:\", len(test_df))"
      ],
      "metadata": {
        "id": "IWhKWiHRkmFL"
      },
      "execution_count": 47,
      "outputs": []
    },
    {
      "cell_type": "code",
      "source": [
        "# Checking distribution\n",
        "print(df['target_text'].value_counts())"
      ],
      "metadata": {
        "id": "7191TA8hvaV0",
        "colab": {
          "base_uri": "https://localhost:8080/"
        },
        "outputId": "ec7f6c40-776a-4142-ac7e-3e5c131396b8"
      },
      "execution_count": 48,
      "outputs": [
        {
          "output_type": "stream",
          "name": "stdout",
          "text": [
            "target_text\n",
            "false    11756\n",
            "true      9375\n",
            "Name: count, dtype: int64\n"
          ]
        }
      ]
    },
    {
      "cell_type": "code",
      "source": [
        "# Compute sample weights to handle the class imbalance during model training\n",
        "class_weights = class_weight.compute_sample_weight('balanced', df['target_text'])"
      ],
      "metadata": {
        "id": "9zFHST2uvnjC"
      },
      "execution_count": 49,
      "outputs": []
    },
    {
      "cell_type": "code",
      "source": [
        "# Split into initial train (80%) and temporary (20%)\n",
        "train_df, temp_df = train_test_split(\n",
        "    df_balanced,\n",
        "    test_size=0.2,\n",
        "    stratify=df_balanced[\"target_text\"],\n",
        "    random_state=42\n",
        ")\n",
        "\n",
        "# Split temporary into validation (10%) and test (10%)\n",
        "val_df, test_df = train_test_split(\n",
        "    temp_df,\n",
        "    test_size=0.5,\n",
        "    stratify=temp_df[\"target_text\"],\n",
        "    random_state=42\n",
        ")\n",
        "\n",
        "print(\"Train size:\", len(train_df))\n",
        "print(\"Validation size:\", len(val_df))\n",
        "print(\"Test size:\", len(test_df))"
      ],
      "metadata": {
        "colab": {
          "base_uri": "https://localhost:8080/"
        },
        "id": "PwN1aqFTegdP",
        "outputId": "89b70402-bdf5-42d1-ed95-23d3cb1676f0"
      },
      "execution_count": 50,
      "outputs": [
        {
          "output_type": "stream",
          "name": "stdout",
          "text": [
            "Train size: 15000\n",
            "Validation size: 1875\n",
            "Test size: 1875\n"
          ]
        }
      ]
    },
    {
      "cell_type": "code",
      "source": [
        "print(train_df[[\"input_text\", \"target_text\"]].head())"
      ],
      "metadata": {
        "colab": {
          "base_uri": "https://localhost:8080/"
        },
        "id": "xmIwReQsoT64",
        "outputId": "655b46d8-f405-4652-a3cd-cbcd90717574"
      },
      "execution_count": 51,
      "outputs": [
        {
          "output_type": "stream",
          "name": "stdout",
          "text": [
            "                                              input_text target_text\n",
            "2068   statement: Alan Grayson says: A bill to advanc...       false\n",
            "11852  statement: Democratic Governors Association sa...        true\n",
            "14014  statement: Mark Warner says: Says the Trump ad...        true\n",
            "3017   statement: Adam Smith says: \"Go back to 2005 u...       false\n",
            "2222   statement: Facebook posts says: Congress creat...       false\n"
          ]
        }
      ]
    },
    {
      "cell_type": "code",
      "source": [
        "# Base directory path in Google Drive\n",
        "base_save_path = \"/content/drive/MyDrive/test-train-val-new-fact-cheker-ml-datasets/\"\n",
        "\n",
        "# Create separate directories for each dataset\n",
        "train_dir = os.path.join(base_save_path, \"train\")\n",
        "val_dir = os.path.join(base_save_path, \"validation\")\n",
        "test_dir = os.path.join(base_save_path, \"test\")\n",
        "\n",
        "# Ensure directories exist (create if not)\n",
        "os.makedirs(train_dir, exist_ok=True)\n",
        "os.makedirs(val_dir, exist_ok=True)\n",
        "os.makedirs(test_dir, exist_ok=True)\n",
        "\n",
        "# Save datasets in their respective directories\n",
        "train_df[[\"input_text\", \"target_text\"]].to_csv(os.path.join(train_dir, \"train_data.csv\"), index=False)\n",
        "val_df[[\"input_text\", \"target_text\"]].to_csv(os.path.join(val_dir, \"validation_data.csv\"), index=False)\n",
        "test_df[[\"input_text\", \"target_text\"]].to_csv(os.path.join(test_dir, \"test_data.csv\"), index=False)\n",
        "\n",
        "print(\"✅ Datasets saved in separate directories:\")\n",
        "print(f\"Train: {train_dir}/train_data.csv\")\n",
        "print(f\"Validation: {val_dir}/validation_data.csv\")\n",
        "print(f\"Test: {test_dir}/test_data.csv\")"
      ],
      "metadata": {
        "id": "89uh-UhTVgfW",
        "colab": {
          "base_uri": "https://localhost:8080/"
        },
        "outputId": "7d642cf4-7230-40b2-8082-6ba9d5f439f8"
      },
      "execution_count": 52,
      "outputs": [
        {
          "output_type": "stream",
          "name": "stdout",
          "text": [
            "✅ Datasets saved in separate directories:\n",
            "Train: /content/drive/MyDrive/test-train-val-new-fact-cheker-ml-datasets/train/train_data.csv\n",
            "Validation: /content/drive/MyDrive/test-train-val-new-fact-cheker-ml-datasets/validation/validation_data.csv\n",
            "Test: /content/drive/MyDrive/test-train-val-new-fact-cheker-ml-datasets/test/test_data.csv\n"
          ]
        }
      ]
    }
  ]
}